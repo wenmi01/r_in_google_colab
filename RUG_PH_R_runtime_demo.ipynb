{
  "nbformat": 4,
  "nbformat_minor": 0,
  "metadata": {
    "colab": {
      "name": "RUG_PH_R_runtime_demo.ipynb",
      "provenance": [],
      "collapsed_sections": []
    },
    "kernelspec": {
      "name": "ir",
      "display_name": "R"
    },
    "language_info": {
      "name": "R"
    }
  },
  "cells": [
    {
      "cell_type": "markdown",
      "metadata": {
        "id": "SPhqBSGrXTiH"
      },
      "source": [
        "# RUG PH R Runtime demo\n",
        "Philippine R Users Group Meetup\n",
        "2021 November 17\n",
        "\n",
        "Created using the URL: Go to this URL: https://colab.research.google.com/#create=true&language=r, or this short URL https://colab.to/r\n",
        "\n",
        "\n",
        "*Rowen Remis R. Iral*\n",
        "(http://wenup.wordpress.com])\n",
        "Solutions Architect (DS/AI)"
      ]
    },
    {
      "cell_type": "code",
      "metadata": {
        "id": "pSTqCdHxUJDQ"
      },
      "source": [
        "R.version"
      ],
      "execution_count": null,
      "outputs": []
    },
    {
      "cell_type": "code",
      "metadata": {
        "id": "TD7K78aRULC_"
      },
      "source": [
        "R.Version()"
      ],
      "execution_count": null,
      "outputs": []
    },
    {
      "cell_type": "code",
      "metadata": {
        "id": "rfqsUeX7Uv3Q"
      },
      "source": [
        "getwd()"
      ],
      "execution_count": null,
      "outputs": []
    },
    {
      "cell_type": "code",
      "metadata": {
        "id": "B6QsTOdaU03s"
      },
      "source": [
        "head(iris)"
      ],
      "execution_count": null,
      "outputs": []
    },
    {
      "cell_type": "code",
      "metadata": {
        "id": "zUtnU6DUU4T2"
      },
      "source": [
        "library(tidyverse)"
      ],
      "execution_count": null,
      "outputs": []
    },
    {
      "cell_type": "code",
      "metadata": {
        "id": "2iGqkSTlVCSu"
      },
      "source": [
        "library(data.table)"
      ],
      "execution_count": null,
      "outputs": []
    },
    {
      "cell_type": "code",
      "metadata": {
        "id": "AJOx1QvrVM2R"
      },
      "source": [
        "library(devtools)"
      ],
      "execution_count": null,
      "outputs": []
    },
    {
      "cell_type": "code",
      "metadata": {
        "id": "-SBnG5iyVT9p"
      },
      "source": [
        "if (!requireNamespace(\"BiocManager\", quietly = TRUE))\n",
        "    install.packages(\"BiocManager\")\n",
        "\n",
        "BiocManager::install(\"Biostrings\")\n"
      ],
      "execution_count": null,
      "outputs": []
    },
    {
      "cell_type": "code",
      "metadata": {
        "id": "ME_EGiJHVbiu"
      },
      "source": [
        "library(Biostrings)"
      ],
      "execution_count": null,
      "outputs": []
    },
    {
      "cell_type": "code",
      "metadata": {
        "id": "Lq-7opBoYpSD"
      },
      "source": [
        "letters"
      ],
      "execution_count": null,
      "outputs": []
    },
    {
      "cell_type": "code",
      "metadata": {
        "id": "5oXYEUf3YqgR"
      },
      "source": [
        "LETTERS"
      ],
      "execution_count": null,
      "outputs": []
    },
    {
      "cell_type": "code",
      "metadata": {
        "id": "E9VQVsi0Yt6I"
      },
      "source": [
        "sample(LETTERS[c(1,3,7,20)], size=10, replace=TRUE)"
      ],
      "execution_count": null,
      "outputs": []
    },
    {
      "cell_type": "code",
      "metadata": {
        "id": "DJ9XRxnRYw0P"
      },
      "source": [
        "DNA_ALPHABET"
      ],
      "execution_count": null,
      "outputs": []
    },
    {
      "cell_type": "code",
      "metadata": {
        "id": "O56kJVR1Yz6Z"
      },
      "source": [
        "seq = sample(DNA_ALPHABET[1:4], size=10, replace=TRUE)\n",
        "seq"
      ],
      "execution_count": null,
      "outputs": []
    },
    {
      "cell_type": "code",
      "metadata": {
        "id": "btK9wbYbY3QG"
      },
      "source": [
        "seq = paste(seq, collapse=\"\")\n",
        "seq"
      ],
      "execution_count": null,
      "outputs": []
    },
    {
      "cell_type": "code",
      "metadata": {
        "id": "cotGeL2uY5si"
      },
      "source": [
        "bstring = BString(\"I am a BString object\")\n",
        "bstring"
      ],
      "execution_count": null,
      "outputs": []
    },
    {
      "cell_type": "code",
      "metadata": {
        "id": "xtjGIdUFZBtS"
      },
      "source": [
        "dnastring = DNAString(\"TTGAAA-CTC-N\")\n",
        "dnastring"
      ],
      "execution_count": null,
      "outputs": []
    },
    {
      "cell_type": "code",
      "metadata": {
        "id": "esnUahtvZDUn"
      },
      "source": [
        "length(dnastring)"
      ],
      "execution_count": null,
      "outputs": []
    },
    {
      "cell_type": "code",
      "metadata": {
        "id": "BIN97hPQZHh1"
      },
      "source": [
        "# Human Genome\n",
        "if (!requireNamespace(\"BSgenome.Hsapiens.UCSC.hg19\", quietly = TRUE))\n",
        "    BiocManager::install(\"BSgenome.Hsapiens.UCSC.hg19\")"
      ],
      "execution_count": null,
      "outputs": []
    },
    {
      "cell_type": "code",
      "metadata": {
        "id": "ixEe5MU4ZVI2"
      },
      "source": [
        "library(\"BSgenome.Hsapiens.UCSC.hg19\")"
      ],
      "execution_count": null,
      "outputs": []
    },
    {
      "cell_type": "code",
      "metadata": {
        "id": "ioSnO5SDZYr6"
      },
      "source": [
        "seqChr8 = unmasked(Hsapiens$chr8)"
      ],
      "execution_count": null,
      "outputs": []
    },
    {
      "cell_type": "code",
      "metadata": {
        "id": "qBrocvcMjhOO"
      },
      "source": [
        ""
      ],
      "execution_count": null,
      "outputs": []
    }
  ]
}