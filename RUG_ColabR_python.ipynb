{
  "nbformat": 4,
  "nbformat_minor": 0,
  "metadata": {
    "colab": {
      "name": "RUG_ColabR_python.ipynb",
      "provenance": [],
      "collapsed_sections": []
    },
    "kernelspec": {
      "name": "python3",
      "display_name": "Python 3"
    },
    "language_info": {
      "name": "python"
    }
  },
  "cells": [
    {
      "cell_type": "markdown",
      "metadata": {
        "id": "GOduyPxFFp1w"
      },
      "source": [
        "# Google Colab Python with R\n",
        "Philippine R Users Group Meetup\n",
        "2021 November 17\n",
        "\n",
        "*Rowen Remis R. Iral*\n",
        "(http://wenup.wordpress.com])\n",
        "Solutions Architect (DS/AI)"
      ]
    },
    {
      "cell_type": "code",
      "metadata": {
        "id": "2z202WPAFFjt"
      },
      "source": [
        "!python --version"
      ],
      "execution_count": null,
      "outputs": []
    },
    {
      "cell_type": "code",
      "metadata": {
        "id": "cy2r_BDIF1_D"
      },
      "source": [
        "## load the extension\n",
        "%load_ext rpy2.ipython"
      ],
      "execution_count": null,
      "outputs": []
    },
    {
      "cell_type": "code",
      "metadata": {
        "id": "sY6-BG-_Fmw3"
      },
      "source": [
        "%R print(\"Hello from R using Google Colab\")"
      ],
      "execution_count": null,
      "outputs": []
    },
    {
      "cell_type": "code",
      "metadata": {
        "id": "I2HOnIlGFzL8"
      },
      "source": [
        "## Multiple Line use\n",
        "%%R \n",
        "print(\"Hello from R using Google Colab\")\n",
        "print(\"Isn't it amazing?\")"
      ],
      "execution_count": null,
      "outputs": []
    },
    {
      "cell_type": "markdown",
      "metadata": {
        "id": "xVTWgnTaHUEy"
      },
      "source": [
        "## Python with R"
      ]
    },
    {
      "cell_type": "code",
      "metadata": {
        "id": "dEUgKcuOGxds"
      },
      "source": [
        "import rpy2.robjects as robjects\n",
        "from rpy2.robjects.packages import importr\n",
        "base = importr(\"base\")\n",
        "stats = importr(\"stats\")"
      ],
      "execution_count": null,
      "outputs": []
    },
    {
      "cell_type": "code",
      "metadata": {
        "id": "DBV2Cja0HZU1"
      },
      "source": [
        "result = robjects.r(\"\"\"\n",
        "foo <- function(x, y) { x + y}\n",
        "foo(3, 4)\"\"\")\n",
        "\n",
        "print(result)"
      ],
      "execution_count": null,
      "outputs": []
    },
    {
      "cell_type": "code",
      "metadata": {
        "id": "-vaved1dH8Wb"
      },
      "source": [
        "## Create R data\n",
        "xs = robjects.FloatVector([1, 2, 3, 4, 5])\n",
        "print(xs)"
      ],
      "execution_count": null,
      "outputs": []
    },
    {
      "cell_type": "code",
      "metadata": {
        "id": "YE64ppunIEhs"
      },
      "source": [
        "type(xs)"
      ],
      "execution_count": null,
      "outputs": []
    },
    {
      "cell_type": "code",
      "metadata": {
        "id": "pHgSUGuIIGfv"
      },
      "source": [
        "xs = robjects.r(\"1:5\")\n",
        "print(xs)"
      ],
      "execution_count": null,
      "outputs": []
    },
    {
      "cell_type": "code",
      "metadata": {
        "id": "Gy46DkLeILHH"
      },
      "source": [
        "type(xs)"
      ],
      "execution_count": null,
      "outputs": []
    },
    {
      "cell_type": "code",
      "metadata": {
        "id": "Prn34BgMIPEz"
      },
      "source": [
        "robjects.r['sort'](xs, decreasing=True)"
      ],
      "execution_count": null,
      "outputs": []
    },
    {
      "cell_type": "markdown",
      "metadata": {
        "id": "Gw8dxzujInoz"
      },
      "source": [
        "### From Python to R (rpy2)"
      ]
    },
    {
      "cell_type": "code",
      "metadata": {
        "id": "gD9cu2yzIVGL"
      },
      "source": [
        "testStr = \"Hello from Python\""
      ],
      "execution_count": null,
      "outputs": []
    },
    {
      "cell_type": "code",
      "metadata": {
        "id": "8rYmT3ACI0Mx"
      },
      "source": [
        "# install -c r r-essentials --yes\n",
        "# !pip install rpy2"
      ],
      "execution_count": null,
      "outputs": []
    },
    {
      "cell_type": "code",
      "metadata": {
        "id": "wN9HOfCfIhWs"
      },
      "source": [
        "from rpy2 import robjects as ro\n",
        "from rpy2.robjects import pandas2ri\n",
        "from rpy2.robjects.conversion import localconverter"
      ],
      "execution_count": null,
      "outputs": []
    },
    {
      "cell_type": "code",
      "metadata": {
        "id": "oZDLNRCJJTIt"
      },
      "source": [
        "import pandas as pd"
      ],
      "execution_count": null,
      "outputs": []
    },
    {
      "cell_type": "code",
      "metadata": {
        "id": "MpZq_ww3JWVh"
      },
      "source": [
        "data = {'product_name': ['laptop', 'printer', 'tablet', 'desk', 'chair'],\n",
        "        'price': [1200, 150, 300, 450, 200]\n",
        "        }\n",
        "\n",
        "df = pd.DataFrame(data)\n",
        "\n",
        "print (df)"
      ],
      "execution_count": null,
      "outputs": []
    },
    {
      "cell_type": "code",
      "metadata": {
        "id": "UlwZz4lnIxUo"
      },
      "source": [
        "import rpy2.robjects as robjects\n",
        "import rpy2.robjects.packages as rpackages\n",
        "from rpy2.robjects.vectors import StrVector"
      ],
      "execution_count": null,
      "outputs": []
    },
    {
      "cell_type": "code",
      "metadata": {
        "id": "_FkJ6dh5Pcnp"
      },
      "source": [
        "from rpy2.robjects import numpy2ri\n",
        "numpy2ri.activate()"
      ],
      "execution_count": null,
      "outputs": []
    },
    {
      "cell_type": "code",
      "metadata": {
        "id": "rE4dYtuKMwfn"
      },
      "source": [
        "from rpy2.robjects import r, pandas2ri\n",
        "pandas2ri.activate()"
      ],
      "execution_count": null,
      "outputs": []
    },
    {
      "cell_type": "code",
      "metadata": {
        "id": "89ONO_sAJNcb"
      },
      "source": [
        "data1 = robjects.r('read.table(file = \"http://personality-project.org/r/datasets/R.appendix3.data\", header = T)')\n",
        "data1.head()"
      ],
      "execution_count": null,
      "outputs": []
    },
    {
      "cell_type": "code",
      "metadata": {
        "id": "Y-Vgw2T3Ljs6"
      },
      "source": [
        "type(data1)"
      ],
      "execution_count": null,
      "outputs": []
    },
    {
      "cell_type": "code",
      "metadata": {
        "id": "h5TJQIXWK5In"
      },
      "source": [
        "%%R \n",
        "r_data <- read.table(file = \"http://personality-project.org/r/datasets/R.appendix3.data\", header = T)\n",
        "print(head(r_data))\n",
        "print(summary(r_data))\n"
      ],
      "execution_count": null,
      "outputs": []
    },
    {
      "cell_type": "code",
      "metadata": {
        "id": "J12lUBSZLHvE"
      },
      "source": [
        "data2 = pandas2ri.py2rpy(data)\n",
        "print(data2)"
      ],
      "execution_count": null,
      "outputs": []
    },
    {
      "cell_type": "code",
      "metadata": {
        "id": "ZlyQQiezM8Te"
      },
      "source": [
        "type(data2)"
      ],
      "execution_count": null,
      "outputs": []
    },
    {
      "cell_type": "code",
      "metadata": {
        "id": "826g7YS_N8uV"
      },
      "source": [
        "## R to pandas\n",
        "%%R\n",
        "data(iris)\n",
        "\n",
        "iris\n",
        "head(iris)"
      ],
      "execution_count": null,
      "outputs": []
    },
    {
      "cell_type": "code",
      "metadata": {
        "id": "NmeGASrPNLkU"
      },
      "source": [
        "pd_iris_df = robjects.r('iris')\n"
      ],
      "execution_count": null,
      "outputs": []
    },
    {
      "cell_type": "code",
      "metadata": {
        "id": "bvrPeNuTNOVW"
      },
      "source": [
        "type(pd_iris_df)"
      ],
      "execution_count": null,
      "outputs": []
    },
    {
      "cell_type": "code",
      "metadata": {
        "id": "Ll9auNX_Oq6K"
      },
      "source": [
        "pd_iris_df.head()"
      ],
      "execution_count": null,
      "outputs": []
    },
    {
      "cell_type": "code",
      "metadata": {
        "id": "MMdQcknyOseV"
      },
      "source": [
        "pd_head_iris = pd_iris_df.head()\n",
        "pd_head_iris"
      ],
      "execution_count": null,
      "outputs": []
    },
    {
      "cell_type": "code",
      "metadata": {
        "id": "qz89ojFoO8rF"
      },
      "source": [
        "robjects.r['x'] = pd_head_iris"
      ],
      "execution_count": null,
      "outputs": []
    },
    {
      "cell_type": "code",
      "metadata": {
        "id": "rRuMF1WVPpxm"
      },
      "source": [
        "## reticulate"
      ],
      "execution_count": null,
      "outputs": []
    },
    {
      "cell_type": "code",
      "metadata": {
        "id": "fNZSDqD9R4oC"
      },
      "source": [
        ""
      ],
      "execution_count": null,
      "outputs": []
    }
  ]
}